{
 "cells": [
  {
   "cell_type": "code",
   "execution_count": 1,
   "id": "3f2cf0f0",
   "metadata": {},
   "outputs": [
    {
     "name": "stdout",
     "output_type": "stream",
     "text": [
      "Hello world\n"
     ]
    }
   ],
   "source": [
    "print(\"Hello world\")"
   ]
  },
  {
   "cell_type": "code",
   "execution_count": 2,
   "id": "4caf0397",
   "metadata": {},
   "outputs": [
    {
     "ename": "NameError",
     "evalue": "name 'Print' is not defined",
     "output_type": "error",
     "traceback": [
      "\u001b[1;31m---------------------------------------------------------------------------\u001b[0m",
      "\u001b[1;31mNameError\u001b[0m                                 Traceback (most recent call last)",
      "Cell \u001b[1;32mIn[2], line 1\u001b[0m\n\u001b[1;32m----> 1\u001b[0m \u001b[43mPrint\u001b[49m(\u001b[38;5;124m\"\u001b[39m\u001b[38;5;124mHello world\u001b[39m\u001b[38;5;124m\"\u001b[39m)\n",
      "\u001b[1;31mNameError\u001b[0m: name 'Print' is not defined"
     ]
    }
   ],
   "source": [
    "Print(\"Hello world\") ### Case sensitive"
   ]
  },
  {
   "cell_type": "code",
   "execution_count": 3,
   "id": "0073198c",
   "metadata": {},
   "outputs": [
    {
     "ename": "SyntaxError",
     "evalue": "invalid syntax. Perhaps you forgot a comma? (1091461690.py, line 1)",
     "output_type": "error",
     "traceback": [
      "\u001b[1;36m  Cell \u001b[1;32mIn[3], line 1\u001b[1;36m\u001b[0m\n\u001b[1;33m    Print(hello world) ### interveted comma for string which is letters\u001b[0m\n\u001b[1;37m          ^\u001b[0m\n\u001b[1;31mSyntaxError\u001b[0m\u001b[1;31m:\u001b[0m invalid syntax. Perhaps you forgot a comma?\n"
     ]
    }
   ],
   "source": [
    "Print(hello world) ### interveted comma for string which is letters"
   ]
  },
  {
   "cell_type": "code",
   "execution_count": 4,
   "id": "35afdab3",
   "metadata": {},
   "outputs": [
    {
     "name": "stdout",
     "output_type": "stream",
     "text": [
      "Hello world\n"
     ]
    }
   ],
   "source": [
    "print('Hello world') ### single inverted comma will do the job"
   ]
  },
  {
   "cell_type": "code",
   "execution_count": 5,
   "id": "aebaecee",
   "metadata": {},
   "outputs": [
    {
     "name": "stdout",
     "output_type": "stream",
     "text": [
      "10\n"
     ]
    }
   ],
   "source": [
    "print(10) ### no requirement of intverted comma in case of numbers"
   ]
  },
  {
   "cell_type": "markdown",
   "id": "e7a0c2b8",
   "metadata": {},
   "source": [
    "# Shortcut"
   ]
  },
  {
   "cell_type": "code",
   "execution_count": 6,
   "id": "dcc2a7dd",
   "metadata": {},
   "outputs": [],
   "source": [
    "### Shortcuts Keys:\n",
    "### Run -> Shift + Enter\n",
    "### Add a cell above -> a \n",
    "### Add a cell below -> b\n",
    "### Delete a cell -> x or d twice (putting cursor on cell)\n",
    "### Markdown/Comment -> M and Shift+Enter  (putting cursor on cell)\n"
   ]
  },
  {
   "cell_type": "markdown",
   "id": "4c64cfad",
   "metadata": {},
   "source": [
    "### asfsafsd ### fsfsdf"
   ]
  },
  {
   "cell_type": "code",
   "execution_count": 7,
   "id": "ac0a8290",
   "metadata": {},
   "outputs": [],
   "source": [
    "### putting hastags with a spcae before anything and pressing M without Shift+Enter will give output like below example 1 "
   ]
  },
  {
   "cell_type": "markdown",
   "id": "8329104e",
   "metadata": {},
   "source": [
    "### example 1"
   ]
  },
  {
   "cell_type": "code",
   "execution_count": 8,
   "id": "cfaffa2d",
   "metadata": {},
   "outputs": [],
   "source": [
    "### putting hastags with a spcae before anything and pressing M with Shift+Enter will give output like below example 2 "
   ]
  },
  {
   "cell_type": "markdown",
   "id": "50b8d7ee",
   "metadata": {},
   "source": [
    "### example 2"
   ]
  },
  {
   "cell_type": "code",
   "execution_count": 9,
   "id": "ebb8ce55",
   "metadata": {},
   "outputs": [],
   "source": [
    "### We can use 1 to 6 hastags and more number of hastags will reduce the font size and less will increase the font size\n",
    "### Like example 3 below uses single hastag "
   ]
  },
  {
   "cell_type": "markdown",
   "id": "9d34b713",
   "metadata": {},
   "source": [
    "# example 3"
   ]
  },
  {
   "cell_type": "markdown",
   "id": "9b46df64",
   "metadata": {},
   "source": [
    "### Data Types"
   ]
  },
  {
   "cell_type": "code",
   "execution_count": 10,
   "id": "01406995",
   "metadata": {},
   "outputs": [
    {
     "data": {
      "text/plain": [
       "int"
      ]
     },
     "execution_count": 10,
     "metadata": {},
     "output_type": "execute_result"
    }
   ],
   "source": [
    "a=10 ### integer(no decimal)\n",
    "type(a)"
   ]
  },
  {
   "cell_type": "code",
   "execution_count": 11,
   "id": "de9a2ced",
   "metadata": {},
   "outputs": [
    {
     "data": {
      "text/plain": [
       "float"
      ]
     },
     "execution_count": 11,
     "metadata": {},
     "output_type": "execute_result"
    }
   ],
   "source": [
    "b=10.8 ### float(with decimal)\n",
    "type(b)"
   ]
  },
  {
   "cell_type": "code",
   "execution_count": 12,
   "id": "90be1cb0",
   "metadata": {},
   "outputs": [
    {
     "data": {
      "text/plain": [
       "str"
      ]
     },
     "execution_count": 12,
     "metadata": {},
     "output_type": "execute_result"
    }
   ],
   "source": [
    "c=\"Machine learning\" ### string which is text\n",
    "type(c)"
   ]
  },
  {
   "cell_type": "code",
   "execution_count": 13,
   "id": "d985bdcc",
   "metadata": {},
   "outputs": [
    {
     "data": {
      "text/plain": [
       "bool"
      ]
     },
     "execution_count": 13,
     "metadata": {},
     "output_type": "execute_result"
    }
   ],
   "source": [
    "d=True ### boolean\n",
    "type(d)"
   ]
  },
  {
   "cell_type": "code",
   "execution_count": 14,
   "id": "b3e96e1b",
   "metadata": {},
   "outputs": [
    {
     "data": {
      "text/plain": [
       "complex"
      ]
     },
     "execution_count": 14,
     "metadata": {},
     "output_type": "execute_result"
    }
   ],
   "source": [
    "e=1-2j ### in programming language, we use j instead of i to denote complex\n",
    "type(e)"
   ]
  },
  {
   "cell_type": "code",
   "execution_count": 15,
   "id": "579b2208",
   "metadata": {},
   "outputs": [
    {
     "data": {
      "text/plain": [
       "str"
      ]
     },
     "execution_count": 15,
     "metadata": {},
     "output_type": "execute_result"
    }
   ],
   "source": [
    "f=\"False\" ### because of inverted comma, here data is string\n",
    "type(f)"
   ]
  },
  {
   "cell_type": "code",
   "execution_count": 16,
   "id": "fd3db726",
   "metadata": {},
   "outputs": [
    {
     "data": {
      "text/plain": [
       "bool"
      ]
     },
     "execution_count": 16,
     "metadata": {},
     "output_type": "execute_result"
    }
   ],
   "source": [
    "f=False\n",
    "type(f)"
   ]
  },
  {
   "cell_type": "markdown",
   "id": "4cab5bf3",
   "metadata": {},
   "source": [
    "### Rule for naming variables"
   ]
  },
  {
   "cell_type": "code",
   "execution_count": 17,
   "id": "9358d921",
   "metadata": {
    "scrolled": true
   },
   "outputs": [
    {
     "data": {
      "text/plain": [
       "1234.12"
      ]
     },
     "execution_count": 17,
     "metadata": {},
     "output_type": "execute_result"
    }
   ],
   "source": [
    "x=1234.12 ### type x and shift+enter or  type print(x)\n",
    "x"
   ]
  },
  {
   "cell_type": "code",
   "execution_count": 18,
   "id": "421a4320",
   "metadata": {},
   "outputs": [
    {
     "data": {
      "text/plain": [
       "float"
      ]
     },
     "execution_count": 18,
     "metadata": {},
     "output_type": "execute_result"
    }
   ],
   "source": [
    "x=1234.12 ### only type of data is given as output not x because it will consider only last command\n",
    "x\n",
    "type(x)"
   ]
  },
  {
   "cell_type": "code",
   "execution_count": 19,
   "id": "85979f66",
   "metadata": {},
   "outputs": [
    {
     "data": {
      "text/plain": [
       "(1234.12, float)"
      ]
     },
     "execution_count": 19,
     "metadata": {},
     "output_type": "execute_result"
    }
   ],
   "source": [
    "x=1234.12\n",
    "x,type(x)"
   ]
  },
  {
   "cell_type": "code",
   "execution_count": 20,
   "id": "058e9fb7",
   "metadata": {},
   "outputs": [],
   "source": [
    "fruit=\"Apple\""
   ]
  },
  {
   "cell_type": "code",
   "execution_count": 21,
   "id": "1c735dbe",
   "metadata": {},
   "outputs": [
    {
     "ename": "SyntaxError",
     "evalue": "invalid decimal literal (2814636266.py, line 1)",
     "output_type": "error",
     "traceback": [
      "\u001b[1;36m  Cell \u001b[1;32mIn[21], line 1\u001b[1;36m\u001b[0m\n\u001b[1;33m    4fruit=\"Apple\" ### Variable name should not start with a number\u001b[0m\n\u001b[1;37m    ^\u001b[0m\n\u001b[1;31mSyntaxError\u001b[0m\u001b[1;31m:\u001b[0m invalid decimal literal\n"
     ]
    }
   ],
   "source": [
    "4fruit=\"Apple\" ### Variable name should not start with a number "
   ]
  },
  {
   "cell_type": "code",
   "execution_count": 22,
   "id": "426715ed",
   "metadata": {},
   "outputs": [],
   "source": [
    "f4uit=\"Apple\" ### Varibale name can have number other than the first place"
   ]
  },
  {
   "cell_type": "code",
   "execution_count": 23,
   "id": "1db6a658",
   "metadata": {},
   "outputs": [],
   "source": [
    "fruit_=\"Apple\" ### It allows only one special character(underscore) which can be placed anywhere in the variable name\n",
    "frui_t=\"Banana\"\n",
    "_fruit=\"Watermelon\""
   ]
  },
  {
   "cell_type": "code",
   "execution_count": 24,
   "id": "812f60f2",
   "metadata": {},
   "outputs": [
    {
     "ename": "SyntaxError",
     "evalue": "invalid syntax (1752185236.py, line 1)",
     "output_type": "error",
     "traceback": [
      "\u001b[1;36m  Cell \u001b[1;32mIn[24], line 1\u001b[1;36m\u001b[0m\n\u001b[1;33m    fruit name=\"Guava\" ### No space as mentioned(any special character) allowed\u001b[0m\n\u001b[1;37m          ^\u001b[0m\n\u001b[1;31mSyntaxError\u001b[0m\u001b[1;31m:\u001b[0m invalid syntax\n"
     ]
    }
   ],
   "source": [
    "fruit name=\"Guava\" ### No space as mentioned(any special character) allowed"
   ]
  },
  {
   "cell_type": "markdown",
   "id": "3ad96528",
   "metadata": {},
   "source": [
    "### List\n",
    "### 1. Allow Heterogenous\n",
    "### 2. Index start from 0\n",
    "### 3. Mutable using index\n",
    "### 4. []"
   ]
  },
  {
   "cell_type": "code",
   "execution_count": 25,
   "id": "d91d1bb5",
   "metadata": {},
   "outputs": [
    {
     "data": {
      "text/plain": [
       "[12, 4.3, 'Hi', (1+3j)]"
      ]
     },
     "execution_count": 25,
     "metadata": {},
     "output_type": "execute_result"
    }
   ],
   "source": [
    "sample_list =[12,4.3,\"Hi\",1+3j] ### Heterogenous\n",
    "sample_list"
   ]
  },
  {
   "cell_type": "code",
   "execution_count": 26,
   "id": "210db3e9",
   "metadata": {},
   "outputs": [
    {
     "data": {
      "text/plain": [
       "list"
      ]
     },
     "execution_count": 26,
     "metadata": {},
     "output_type": "execute_result"
    }
   ],
   "source": [
    "type(sample_list)"
   ]
  },
  {
   "cell_type": "code",
   "execution_count": 27,
   "id": "e74de600",
   "metadata": {},
   "outputs": [],
   "source": [
    "### square bracket is used to slice/call the list only, otherwise use paranthesis()"
   ]
  },
  {
   "cell_type": "code",
   "execution_count": 28,
   "id": "7c1938a7",
   "metadata": {},
   "outputs": [
    {
     "data": {
      "text/plain": [
       "12"
      ]
     },
     "execution_count": 28,
     "metadata": {},
     "output_type": "execute_result"
    }
   ],
   "source": [
    "sample_list[0] ### index start from zero "
   ]
  },
  {
   "cell_type": "code",
   "execution_count": 29,
   "id": "89c5d166",
   "metadata": {},
   "outputs": [
    {
     "data": {
      "text/plain": [
       "(1+3j)"
      ]
     },
     "execution_count": 29,
     "metadata": {},
     "output_type": "execute_result"
    }
   ],
   "source": [
    "sample_list[3]"
   ]
  },
  {
   "cell_type": "code",
   "execution_count": 30,
   "id": "657a5c09",
   "metadata": {},
   "outputs": [
    {
     "data": {
      "text/plain": [
       "'Hi'"
      ]
     },
     "execution_count": 30,
     "metadata": {},
     "output_type": "execute_result"
    }
   ],
   "source": [
    "sample_list[-2] ### index start from -1 from right side counting or negative side "
   ]
  },
  {
   "cell_type": "code",
   "execution_count": 31,
   "id": "a464b5d7",
   "metadata": {},
   "outputs": [
    {
     "ename": "IndexError",
     "evalue": "list index out of range",
     "output_type": "error",
     "traceback": [
      "\u001b[1;31m---------------------------------------------------------------------------\u001b[0m",
      "\u001b[1;31mIndexError\u001b[0m                                Traceback (most recent call last)",
      "Cell \u001b[1;32mIn[31], line 1\u001b[0m\n\u001b[1;32m----> 1\u001b[0m \u001b[43msample_list\u001b[49m\u001b[43m[\u001b[49m\u001b[38;5;241;43m6\u001b[39;49m\u001b[43m]\u001b[49m\n",
      "\u001b[1;31mIndexError\u001b[0m: list index out of range"
     ]
    }
   ],
   "source": [
    "sample_list[6] ### index error "
   ]
  },
  {
   "cell_type": "code",
   "execution_count": 32,
   "id": "c4bb30f5",
   "metadata": {},
   "outputs": [
    {
     "data": {
      "text/plain": [
       "[12, 4.3, 'Hi', (1+3j)]"
      ]
     },
     "execution_count": 32,
     "metadata": {},
     "output_type": "execute_result"
    }
   ],
   "source": [
    "sample_list[0:] ### number after colon calls list including that index number till all"
   ]
  },
  {
   "cell_type": "code",
   "execution_count": 33,
   "id": "820b8021",
   "metadata": {},
   "outputs": [
    {
     "data": {
      "text/plain": [
       "[4.3, 'Hi']"
      ]
     },
     "execution_count": 33,
     "metadata": {},
     "output_type": "execute_result"
    }
   ],
   "source": [
    "sample_list[1:3] ### this does not call last index means calls from starting index till all before last "
   ]
  },
  {
   "cell_type": "code",
   "execution_count": 34,
   "id": "d17764a8",
   "metadata": {},
   "outputs": [
    {
     "data": {
      "text/plain": [
       "[12, 4.3]"
      ]
     },
     "execution_count": 34,
     "metadata": {},
     "output_type": "execute_result"
    }
   ],
   "source": [
    "sample_list[:2] ### this calls every index before last"
   ]
  },
  {
   "cell_type": "code",
   "execution_count": 35,
   "id": "89fd7271",
   "metadata": {},
   "outputs": [
    {
     "data": {
      "text/plain": [
       "[12, 4.3, 'Hi', 'callous']"
      ]
     },
     "execution_count": 35,
     "metadata": {},
     "output_type": "execute_result"
    }
   ],
   "source": [
    "sample_list[3]=\"callous\" ### mutable using index\n",
    "sample_list"
   ]
  },
  {
   "cell_type": "markdown",
   "id": "5af3bec8",
   "metadata": {},
   "source": [
    "# Tuple\n",
    "# 1. Allows Heterogenous\n",
    "# 2. Retrieve using index\n",
    "# 3. Tuple is immutable \n",
    "# 4. ()"
   ]
  },
  {
   "cell_type": "code",
   "execution_count": 36,
   "id": "3620e545",
   "metadata": {},
   "outputs": [
    {
     "data": {
      "text/plain": [
       "(12, 4.3, 'Hi', (1+3j))"
      ]
     },
     "execution_count": 36,
     "metadata": {},
     "output_type": "execute_result"
    }
   ],
   "source": [
    "sample_tuple =(12,4.3,\"Hi\",1+3j)\n",
    "sample_tuple"
   ]
  },
  {
   "cell_type": "code",
   "execution_count": 37,
   "id": "11635f9a",
   "metadata": {},
   "outputs": [
    {
     "data": {
      "text/plain": [
       "tuple"
      ]
     },
     "execution_count": 37,
     "metadata": {},
     "output_type": "execute_result"
    }
   ],
   "source": [
    "type(sample_tuple)"
   ]
  },
  {
   "cell_type": "code",
   "execution_count": 38,
   "id": "5570d8de",
   "metadata": {},
   "outputs": [
    {
     "data": {
      "text/plain": [
       "tuple"
      ]
     },
     "execution_count": 38,
     "metadata": {},
     "output_type": "execute_result"
    }
   ],
   "source": [
    "sample_tuple =12,4.3,\"Hi\",1+3j    ### tuple can also exist without ()\n",
    "type(sample_tuple)"
   ]
  },
  {
   "cell_type": "code",
   "execution_count": 39,
   "id": "fdbcbb8f",
   "metadata": {},
   "outputs": [
    {
     "data": {
      "text/plain": [
       "12"
      ]
     },
     "execution_count": 39,
     "metadata": {},
     "output_type": "execute_result"
    }
   ],
   "source": [
    "sample_tuple[0]"
   ]
  },
  {
   "cell_type": "code",
   "execution_count": 40,
   "id": "8518b57a",
   "metadata": {},
   "outputs": [
    {
     "data": {
      "text/plain": [
       "(12, 4.3, 'Hi', (1+3j))"
      ]
     },
     "execution_count": 40,
     "metadata": {},
     "output_type": "execute_result"
    }
   ],
   "source": [
    "sample_tuple[0:]  ### using square bracket, tuple can be called but mutability is not possible using index"
   ]
  },
  {
   "cell_type": "code",
   "execution_count": 41,
   "id": "9ff70eea",
   "metadata": {},
   "outputs": [
    {
     "ename": "TypeError",
     "evalue": "'tuple' object does not support item assignment",
     "output_type": "error",
     "traceback": [
      "\u001b[1;31m---------------------------------------------------------------------------\u001b[0m",
      "\u001b[1;31mTypeError\u001b[0m                                 Traceback (most recent call last)",
      "Cell \u001b[1;32mIn[41], line 1\u001b[0m\n\u001b[1;32m----> 1\u001b[0m sample_tuple[\u001b[38;5;241m2\u001b[39m]\u001b[38;5;241m=\u001b[39m\u001b[38;5;124m\"\u001b[39m\u001b[38;5;124mFine\u001b[39m\u001b[38;5;124m\"\u001b[39m  \u001b[38;5;66;03m### mutability is not possible in tuple\u001b[39;00m\n\u001b[0;32m      2\u001b[0m sample_tuple\n",
      "\u001b[1;31mTypeError\u001b[0m: 'tuple' object does not support item assignment"
     ]
    }
   ],
   "source": [
    "sample_tuple[2]=\"Fine\"  ### mutability is not possible in tuple\n",
    "sample_tuple"
   ]
  },
  {
   "cell_type": "markdown",
   "id": "03b2df62",
   "metadata": {},
   "source": [
    "### Sets\n",
    "### 1. Add heterogenous\n",
    "### 2. Doesn't allow duplicates\n",
    "### 3. Cannot access using index\n",
    "### 4. Mutable but not using index"
   ]
  },
  {
   "cell_type": "code",
   "execution_count": 42,
   "id": "4fe57869",
   "metadata": {},
   "outputs": [],
   "source": [
    "sample_set={1,43,23,45,67,8,22,21,22,32,0,66,12,2,3.1,2,2.3,\"a\",\"abc\",\"b\"}\n"
   ]
  },
  {
   "cell_type": "code",
   "execution_count": 43,
   "id": "8c563148",
   "metadata": {},
   "outputs": [
    {
     "data": {
      "text/plain": [
       "set"
      ]
     },
     "execution_count": 43,
     "metadata": {},
     "output_type": "execute_result"
    }
   ],
   "source": [
    "type(sample_set)"
   ]
  },
  {
   "cell_type": "markdown",
   "id": "f473eb3d",
   "metadata": {},
   "source": []
  },
  {
   "cell_type": "code",
   "execution_count": 44,
   "id": "1ab3bc19",
   "metadata": {},
   "outputs": [
    {
     "data": {
      "text/plain": [
       "{0, 1, 12, 2, 2.3, 21, 22, 23, 3.1, 32, 43, 45, 66, 67, 8, 'a', 'abc', 'b'}"
      ]
     },
     "execution_count": 44,
     "metadata": {},
     "output_type": "execute_result"
    }
   ],
   "source": [
    "sample_set ### sorted where sorting is done like all number starting with 0 then all numbers with 1 and so on \n",
    "           ### also repeated numbers are not included"
   ]
  },
  {
   "cell_type": "code",
   "execution_count": 45,
   "id": "8d6d3482",
   "metadata": {},
   "outputs": [
    {
     "ename": "TypeError",
     "evalue": "'set' object is not subscriptable",
     "output_type": "error",
     "traceback": [
      "\u001b[1;31m---------------------------------------------------------------------------\u001b[0m",
      "\u001b[1;31mTypeError\u001b[0m                                 Traceback (most recent call last)",
      "Cell \u001b[1;32mIn[45], line 1\u001b[0m\n\u001b[1;32m----> 1\u001b[0m \u001b[43msample_set\u001b[49m\u001b[43m[\u001b[49m\u001b[38;5;241;43m2\u001b[39;49m\u001b[43m]\u001b[49m\n",
      "\u001b[1;31mTypeError\u001b[0m: 'set' object is not subscriptable"
     ]
    }
   ],
   "source": [
    "sample_set[2] ### can't call using index"
   ]
  },
  {
   "cell_type": "code",
   "execution_count": 46,
   "id": "ce8d5549",
   "metadata": {},
   "outputs": [
    {
     "ename": "TypeError",
     "evalue": "'set' object does not support item assignment",
     "output_type": "error",
     "traceback": [
      "\u001b[1;31m---------------------------------------------------------------------------\u001b[0m",
      "\u001b[1;31mTypeError\u001b[0m                                 Traceback (most recent call last)",
      "Cell \u001b[1;32mIn[46], line 1\u001b[0m\n\u001b[1;32m----> 1\u001b[0m sample_set[\u001b[38;5;241m3\u001b[39m]\u001b[38;5;241m=\u001b[39m\u001b[38;5;124m\"\u001b[39m\u001b[38;5;124mBall\u001b[39m\u001b[38;5;124m\"\u001b[39m\n",
      "\u001b[1;31mTypeError\u001b[0m: 'set' object does not support item assignment"
     ]
    }
   ],
   "source": [
    "sample_set[3]=\"Ball\" ### Mutability is not possible using index"
   ]
  },
  {
   "cell_type": "code",
   "execution_count": 47,
   "id": "b81f673e",
   "metadata": {},
   "outputs": [
    {
     "data": {
      "text/plain": [
       "{0, 1, 12, 2, 2.3, 21, 22, 23, 3.1, 32, 43, 45, 66, 67, 8, 'a', 'abc', 'b'}"
      ]
     },
     "execution_count": 47,
     "metadata": {},
     "output_type": "execute_result"
    }
   ],
   "source": [
    "sample_set"
   ]
  },
  {
   "cell_type": "code",
   "execution_count": 48,
   "id": "36e08e15",
   "metadata": {},
   "outputs": [],
   "source": [
    "sample_set.add(12) ### mutability is possible using remove.() or add.()"
   ]
  },
  {
   "cell_type": "code",
   "execution_count": 49,
   "id": "879b1962",
   "metadata": {},
   "outputs": [
    {
     "data": {
      "text/plain": [
       "{0, 1, 12, 2, 2.3, 21, 22, 23, 3.1, 32, 43, 45, 66, 67, 8, 'a', 'abc', 'b'}"
      ]
     },
     "execution_count": 49,
     "metadata": {},
     "output_type": "execute_result"
    }
   ],
   "source": [
    "sample_set"
   ]
  },
  {
   "cell_type": "code",
   "execution_count": 50,
   "id": "640109cb",
   "metadata": {},
   "outputs": [],
   "source": [
    "sample_set.remove(8)"
   ]
  },
  {
   "cell_type": "code",
   "execution_count": 51,
   "id": "240d882c",
   "metadata": {},
   "outputs": [
    {
     "data": {
      "text/plain": [
       "{0, 1, 12, 2, 2.3, 21, 22, 23, 3.1, 32, 43, 45, 66, 67, 89, 'a', 'abc', 'b'}"
      ]
     },
     "execution_count": 51,
     "metadata": {},
     "output_type": "execute_result"
    }
   ],
   "source": [
    "sample_set.add(89)\n",
    "sample_set"
   ]
  },
  {
   "cell_type": "markdown",
   "id": "eb9cb554",
   "metadata": {},
   "source": [
    "# Dictionary "
   ]
  },
  {
   "cell_type": "code",
   "execution_count": 52,
   "id": "2f15e0c5",
   "metadata": {},
   "outputs": [
    {
     "data": {
      "text/plain": [
       "{'a': 'Third', 1: 'Second', 6: 'Second', 5: 7}"
      ]
     },
     "execution_count": 52,
     "metadata": {},
     "output_type": "execute_result"
    }
   ],
   "source": [
    "sample_dict={\"a\":\"First\",1:\"Second\",\"a\":\"Third\",6:\"Second\",5:7}   # In case of duplicate keys, only one key is considered\n",
    "                                                                  # In case of duplicate keys, value of last duplicated key is showed\n",
    "sample_dict"
   ]
  },
  {
   "cell_type": "markdown",
   "id": "bcb1b7a0",
   "metadata": {},
   "source": [
    "#### Dictinoary has key-value pair data structure\n",
    "#### Keys - a,1,6,5\n",
    "#### Values - First,Second,Third,7\n",
    "#### Key is unique\n",
    "#### Values can be duplicated"
   ]
  },
  {
   "cell_type": "markdown",
   "id": "76bb67b4",
   "metadata": {},
   "source": [
    "### We can retrieve values using keys"
   ]
  },
  {
   "cell_type": "code",
   "execution_count": 53,
   "id": "43602f3d",
   "metadata": {},
   "outputs": [
    {
     "data": {
      "text/plain": [
       "'Second'"
      ]
     },
     "execution_count": 53,
     "metadata": {},
     "output_type": "execute_result"
    }
   ],
   "source": [
    "sample_dict[6]  ### We can retrieve values using keys"
   ]
  },
  {
   "cell_type": "markdown",
   "id": "eb06cc2c",
   "metadata": {},
   "source": [
    "### We cannot retrieve keys using values"
   ]
  },
  {
   "cell_type": "code",
   "execution_count": 54,
   "id": "82433675",
   "metadata": {},
   "outputs": [
    {
     "ename": "KeyError",
     "evalue": "'Second'",
     "output_type": "error",
     "traceback": [
      "\u001b[1;31m---------------------------------------------------------------------------\u001b[0m",
      "\u001b[1;31mKeyError\u001b[0m                                  Traceback (most recent call last)",
      "Cell \u001b[1;32mIn[54], line 1\u001b[0m\n\u001b[1;32m----> 1\u001b[0m \u001b[43msample_dict\u001b[49m\u001b[43m[\u001b[49m\u001b[38;5;124;43m\"\u001b[39;49m\u001b[38;5;124;43mSecond\u001b[39;49m\u001b[38;5;124;43m\"\u001b[39;49m\u001b[43m]\u001b[49m\n",
      "\u001b[1;31mKeyError\u001b[0m: 'Second'"
     ]
    }
   ],
   "source": [
    "sample_dict[\"Second\"]  ### We cannot retrieve keys using values"
   ]
  },
  {
   "cell_type": "markdown",
   "id": "5cf4adfc",
   "metadata": {},
   "source": [
    "### Dictionary is mutable using keys"
   ]
  },
  {
   "cell_type": "code",
   "execution_count": 55,
   "id": "017fa516",
   "metadata": {},
   "outputs": [
    {
     "data": {
      "text/plain": [
       "{'a': 'Third', 1: 'Second', 6: 'Second', 5: 100}"
      ]
     },
     "execution_count": 55,
     "metadata": {},
     "output_type": "execute_result"
    }
   ],
   "source": [
    "sample_dict[5]=100  \n",
    "sample_dict"
   ]
  },
  {
   "cell_type": "code",
   "execution_count": 56,
   "id": "ca209a17",
   "metadata": {},
   "outputs": [
    {
     "data": {
      "text/plain": [
       "{'a': 'Third', 1: 'Second', 6: 'Second', 5: 100}"
      ]
     },
     "execution_count": 56,
     "metadata": {},
     "output_type": "execute_result"
    }
   ],
   "source": [
    "sample_dict"
   ]
  },
  {
   "cell_type": "markdown",
   "id": "7e38bf58",
   "metadata": {},
   "source": [
    "### Adding a new key-value pair in dictionary "
   ]
  },
  {
   "cell_type": "code",
   "execution_count": 57,
   "id": "88ea8bcb",
   "metadata": {},
   "outputs": [
    {
     "data": {
      "text/plain": [
       "{'a': 'Third', 1: 'Second', 6: 'Second', 5: 100, 'vir': 'tir'}"
      ]
     },
     "execution_count": 57,
     "metadata": {},
     "output_type": "execute_result"
    }
   ],
   "source": [
    "sample_dict['vir']='tir'\n",
    "sample_dict"
   ]
  },
  {
   "cell_type": "code",
   "execution_count": null,
   "id": "7e6cffef",
   "metadata": {},
   "outputs": [],
   "source": []
  },
  {
   "cell_type": "code",
   "execution_count": null,
   "id": "7839a060",
   "metadata": {},
   "outputs": [],
   "source": []
  }
 ],
 "metadata": {
  "kernelspec": {
   "display_name": "Python 3 (ipykernel)",
   "language": "python",
   "name": "python3"
  },
  "language_info": {
   "codemirror_mode": {
    "name": "ipython",
    "version": 3
   },
   "file_extension": ".py",
   "mimetype": "text/x-python",
   "name": "python",
   "nbconvert_exporter": "python",
   "pygments_lexer": "ipython3",
   "version": "3.10.9"
  }
 },
 "nbformat": 4,
 "nbformat_minor": 5
}
